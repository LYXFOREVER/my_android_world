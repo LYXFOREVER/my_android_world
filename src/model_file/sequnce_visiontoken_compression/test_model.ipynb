{
 "cells": [
  {
   "cell_type": "code",
   "execution_count": null,
   "metadata": {},
   "outputs": [],
   "source": [
    "import transformers\n",
    "from modeling_qwen2vl_compress import Qwen2VLForConditionalGeneration\n",
    "model = transformers.Qwen2VLForConditionalGeneration.from_pretrained('/home/wentao/project/Qwen2-VL-Finetune-master/models/Qwen2-VL', device_map=None, trust_remote_code=True)\n",
    "model2 = Qwen2VLForConditionalGeneration.from_pretrained('/home/wentao/project/Qwen2-VL-Finetune-master/src/model_file/sequnce_visiontoken_compression')"
   ]
  },
  {
   "cell_type": "code",
   "execution_count": 5,
   "metadata": {},
   "outputs": [
    {
     "data": {
      "text/plain": [
       "Parameter containing:\n",
       "tensor([[ 0.0066, -0.0165,  0.0047,  ...,  0.0040,  0.0223,  0.0135],\n",
       "        [ 0.0212, -0.0107,  0.0107,  ...,  0.0101,  0.0016,  0.0173],\n",
       "        [-0.0187, -0.0095, -0.0038,  ...,  0.0086, -0.0131,  0.0103],\n",
       "        ...,\n",
       "        [-0.0101,  0.0164, -0.0013,  ...,  0.0069, -0.0062, -0.0075],\n",
       "        [-0.0101,  0.0164, -0.0013,  ...,  0.0069, -0.0062, -0.0075],\n",
       "        [-0.0101,  0.0164, -0.0013,  ...,  0.0069, -0.0062, -0.0075]],\n",
       "       requires_grad=True)"
      ]
     },
     "execution_count": 5,
     "metadata": {},
     "output_type": "execute_result"
    }
   ],
   "source": [
    "model.lm_head.weight"
   ]
  },
  {
   "cell_type": "code",
   "execution_count": 6,
   "metadata": {},
   "outputs": [
    {
     "data": {
      "text/plain": [
       "Parameter containing:\n",
       "tensor([[ 0.0066, -0.0165,  0.0047,  ...,  0.0040,  0.0223,  0.0135],\n",
       "        [ 0.0212, -0.0107,  0.0107,  ...,  0.0101,  0.0016,  0.0173],\n",
       "        [-0.0187, -0.0095, -0.0038,  ...,  0.0086, -0.0131,  0.0103],\n",
       "        ...,\n",
       "        [-0.0101,  0.0164, -0.0013,  ...,  0.0069, -0.0062, -0.0075],\n",
       "        [-0.0101,  0.0164, -0.0013,  ...,  0.0069, -0.0062, -0.0075],\n",
       "        [-0.0101,  0.0164, -0.0013,  ...,  0.0069, -0.0062, -0.0075]],\n",
       "       requires_grad=True)"
      ]
     },
     "execution_count": 6,
     "metadata": {},
     "output_type": "execute_result"
    }
   ],
   "source": [
    "model2.lm_head.weight"
   ]
  },
  {
   "cell_type": "code",
   "execution_count": null,
   "metadata": {},
   "outputs": [],
   "source": []
  }
 ],
 "metadata": {
  "kernelspec": {
   "display_name": "qwen2vl",
   "language": "python",
   "name": "python3"
  },
  "language_info": {
   "codemirror_mode": {
    "name": "ipython",
    "version": 3
   },
   "file_extension": ".py",
   "mimetype": "text/x-python",
   "name": "python",
   "nbconvert_exporter": "python",
   "pygments_lexer": "ipython3",
   "version": "3.9.0"
  }
 },
 "nbformat": 4,
 "nbformat_minor": 2
}
