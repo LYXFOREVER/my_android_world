{
 "cells": [
  {
   "cell_type": "code",
   "execution_count": null,
   "metadata": {},
   "outputs": [
    {
     "name": "stderr",
     "output_type": "stream",
     "text": [
      "/home/wentao/anaconda3/envs/qwen2vl/lib/python3.9/site-packages/tqdm/auto.py:21: TqdmWarning: IProgress not found. Please update jupyter and ipywidgets. See https://ipywidgets.readthedocs.io/en/stable/user_install.html\n",
      "  from .autonotebook import tqdm as notebook_tqdm\n"
     ]
    }
   ],
   "source": [
    "from PIL import Image, ImageDraw\n",
    "import sys\n",
    "sys.path.append(\"../../../\")\n",
    "\n",
    "from src.training.my_qwen_vl_utils import process_vision_info_with_resize\n",
    "from transformers import AutoProcessor\n",
    "from src.model_file.LLM_compression_v2_action.modeling_qwen2vl import Qwen2VLForConditionalGeneration\n",
    "import pdb\n",
    "import argparse\n",
    "\n",
    "# 创建解析器\n",
    "parser = argparse.ArgumentParser(description='Specify paths for saving and loading models.')\n",
    "\n",
    "# 添加参数\n",
    "parser.add_argument('--save_path', type=str, default=\"eval_results/\",\n",
    "                    help='The path where the model will be saved')\n",
    "parser.add_argument('--model_path', type=str, default=\"/home/wentao/project/Qwen2-VL-Finetune-master/models/\",\n",
    "                    help='The path where the model is loaded from')\n",
    "parser.add_argument('--his_num', type=int, default=4,\n",
    "                    help='The path where the model is loaded from')\n",
    "\n",
    "# 解析参数\n",
    "args = parser.parse_args(args=[])\n",
    "args.save_path = args.save_path + args.model_path.split('/')[-1] + '.json'\n",
    "\n",
    "import torch\n",
    "from transformers import AutoConfig# Default: Load the model on the available device(s)\n",
    "\n",
    "config = AutoConfig.from_pretrained(args.model_path)"
   ]
  },
  {
   "cell_type": "code",
   "execution_count": 2,
   "metadata": {},
   "outputs": [],
   "source": [
    "config.drop_k = 5"
   ]
  },
  {
   "cell_type": "code",
   "execution_count": 1,
   "metadata": {},
   "outputs": [
    {
     "data": {
      "text/plain": [
       "2"
      ]
     },
     "execution_count": 1,
     "metadata": {},
     "output_type": "execute_result"
    }
   ],
   "source": [
    "len([(1,2), (1,2)])"
   ]
  },
  {
   "cell_type": "code",
   "execution_count": 3,
   "metadata": {},
   "outputs": [
    {
     "name": "stderr",
     "output_type": "stream",
     "text": [
      "You are attempting to use Flash Attention 2.0 without specifying a torch dtype. This might lead to unexpected behaviour\n",
      "`Qwen2VLRotaryEmbedding` can now be fully parameterized by passing the model config through the `config` argument. All other arguments will be removed in v4.46\n",
      "Some weights of the model checkpoint at /home/wentao/project/Qwen2-VL-Finetune-master/models/LLM_compresion_v2_different_init_lora were not used when initializing Qwen2VLForConditionalGeneration: ['summary.0', 'summary.1', 'summary.2', 'summary.3']\n",
      "- This IS expected if you are initializing Qwen2VLForConditionalGeneration from the checkpoint of a model trained on another task or with another architecture (e.g. initializing a BertForSequenceClassification model from a BertForPreTraining model).\n",
      "- This IS NOT expected if you are initializing Qwen2VLForConditionalGeneration from the checkpoint of a model that you expect to be exactly identical (initializing a BertForSequenceClassification model from a BertForSequenceClassification model).\n"
     ]
    }
   ],
   "source": [
    "\n",
    "\n",
    "model = Qwen2VLForConditionalGeneration.from_pretrained(\n",
    "    # \"OS-Copilot/OS-Atlas-Base-7B\", torch_dtype=\"auto\", device_map=\"auto\"\n",
    "    args.model_path , torch_dtype=\"auto\", config = config, device_map=\"cuda\",attn_implementation=\"flash_attention_2\"\n",
    "    #\"/home/wentao/project/gui_ads/OS-Atlas-Base-7B\", torch_dtype=\"auto\", device_map=\"auto\"\n",
    ")\n"
   ]
  },
  {
   "cell_type": "code",
   "execution_count": null,
   "metadata": {},
   "outputs": [],
   "source": []
  },
  {
   "cell_type": "code",
   "execution_count": null,
   "metadata": {},
   "outputs": [],
   "source": []
  },
  {
   "cell_type": "code",
   "execution_count": null,
   "metadata": {},
   "outputs": [],
   "source": []
  },
  {
   "cell_type": "code",
   "execution_count": null,
   "metadata": {},
   "outputs": [],
   "source": []
  },
  {
   "cell_type": "code",
   "execution_count": null,
   "metadata": {},
   "outputs": [],
   "source": []
  },
  {
   "cell_type": "code",
   "execution_count": null,
   "metadata": {},
   "outputs": [],
   "source": []
  },
  {
   "cell_type": "code",
   "execution_count": null,
   "metadata": {},
   "outputs": [],
   "source": []
  },
  {
   "cell_type": "code",
   "execution_count": null,
   "metadata": {},
   "outputs": [],
   "source": []
  }
 ],
 "metadata": {
  "kernelspec": {
   "display_name": "qwen2vl",
   "language": "python",
   "name": "python3"
  },
  "language_info": {
   "codemirror_mode": {
    "name": "ipython",
    "version": 3
   },
   "file_extension": ".py",
   "mimetype": "text/x-python",
   "name": "python",
   "nbconvert_exporter": "python",
   "pygments_lexer": "ipython3",
   "version": "3.9.0"
  }
 },
 "nbformat": 4,
 "nbformat_minor": 2
}
